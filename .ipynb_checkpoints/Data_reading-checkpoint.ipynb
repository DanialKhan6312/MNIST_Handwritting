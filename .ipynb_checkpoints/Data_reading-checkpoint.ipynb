{
 "cells": [
  {
   "cell_type": "code",
   "execution_count": 1,
   "metadata": {},
   "outputs": [],
   "source": [
    "import pandas as pd\n",
    "import numpy as np\n",
    "from keras.utils.np_utils import to_categorical \n",
    "from keras.preprocessing import image\n",
    "import matplotlib.pyplot as plt\n",
    "from sklearn.model_selection import train_test_split\n"
   ]
  },
  {
   "cell_type": "code",
   "execution_count": 2,
   "metadata": {},
   "outputs": [],
   "source": [
    "train_set = pd.read_csv(\"C:/users/Danial/Desktop/MNIST/train.csv\")\n",
    "test_set = pd.read_csv(\"C:/users/Danial/Desktop/MNIST/test.csv\")\n",
    "shape=(28,28,1)"
   ]
  },
  {
   "cell_type": "code",
   "execution_count": 3,
   "metadata": {},
   "outputs": [
    {
     "name": "stdout",
     "output_type": "stream",
     "text": [
      "(28000, 784)\n",
      "(28000, 28, 28)\n",
      "(42000, 785)\n",
      "(42000, 28, 28)\n"
     ]
    }
   ],
   "source": [
    "train_pixel = train_set.iloc[:,1:].values.astype('int32')\n",
    "train_pixel = train_pixel.reshape(train_pixel.shape[0], 28, 28)\n",
    "test_pixel = test_set.values.astype('float32')\n",
    "test_pixel = test_pixel.reshape(test_pixel.shape[0], 28, 28)\n",
    "train_label = train_set.iloc[:,0].values.astype('int32')\n",
    "\n",
    "print (test_set.shape)\n",
    "print (test_pixel.shape)\n",
    "print(train_set.shape)\n",
    "print(train_pixel.shape)\n"
   ]
  },
  {
   "cell_type": "code",
   "execution_count": 4,
   "metadata": {},
   "outputs": [
    {
     "data": {
      "image/png": "[encoded data removed]",
      "text/plain": [
       "<Figure size 432x288 with 3 Axes>"
      ]
     },
     "metadata": {
      "needs_background": "light"
     },
     "output_type": "display_data"
    }
   ],
   "source": [
    "for i in range(0,3):\n",
    "    plt.subplot(330 + (i+1))\n",
    "    plt.imshow(train_pixel[i], cmap=plt.get_cmap('gray'))\n",
    "    plt.title(train_label[i]);\n",
    "train_pixel = train_pixel.reshape(train_pixel.shape[0], 28, 28,1)\n",
    "test_pixel = test_pixel.reshape(test_pixel.shape[0], 28, 28,1)\n",
    "train_label = to_categorical(train_label, num_classes = 10)\n",
    "train_pixel, val_pixel, train_label, val_label = train_test_split(train_pixel, train_label, test_size=0.10, random_state=6)\n"
   ]
  },
  {
   "cell_type": "code",
   "execution_count": 5,
   "metadata": {},
   "outputs": [],
   "source": [
    "imagegen = image.ImageDataGenerator(rescale=1/255)\n",
    "train_batch = imagegen.flow(train_pixel,train_label,batch_size=83)\n",
    "val_batch = imagegen.flow(val_pixel,val_label)"
   ]
  }
 ],
 "metadata": {
  "kernelspec": {
   "display_name": "Python 3",
   "language": "python",
   "name": "python3"
  },
  "language_info": {
   "codemirror_mode": {
    "name": "ipython",
    "version": 3
   },
   "file_extension": ".py",
   "mimetype": "text/x-python",
   "name": "python",
   "nbconvert_exporter": "python",
   "pygments_lexer": "ipython3",
   "version": "3.8.3"
  }
 },
 "nbformat": 4,
 "nbformat_minor": 4
}
