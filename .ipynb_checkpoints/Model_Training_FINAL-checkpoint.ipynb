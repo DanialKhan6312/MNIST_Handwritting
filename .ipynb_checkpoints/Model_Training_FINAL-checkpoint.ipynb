{
 "cells": [
  {
   "cell_type": "code",
   "execution_count": 1,
   "metadata": {},
   "outputs": [],
   "source": [
    "from keras.preprocessing import image\n",
    "from tensorflow.keras.layers import Dense, Flatten, Conv2D, Conv1D,MaxPooling2D,Dropout,BatchNormalization,AveragePooling2D,Input\n",
    "import matplotlib.pyplot as plt\n",
    "from keras.utils.np_utils import to_categorical \n",
    "from keras.models import Model\n",
    "from sklearn.model_selection import train_test_split\n",
    "from keras.datasets import mnist"
   ]
  },
  {
   "cell_type": "code",
   "execution_count": 2,
   "metadata": {},
   "outputs": [
    {
     "name": "stdout",
     "output_type": "stream",
     "text": [
      "(60000, 28, 28)\n",
      "(60000, 28, 28, 1)\n",
      "(12000, 28, 28, 1)\n"
     ]
    }
   ],
   "source": [
    "(x_train,y_train), (x_test,y_test)=mnist.load_data()\n",
    "print(x_train.shape)\n",
    "x_train=x_train.reshape(x_train.shape[0], 28, 28, 1)\n",
    "x_test = x_test.reshape(x_test.shape[0], 28, 28, 1)\n",
    "print(x_train.shape)\n",
    "x_train, x_val, y_train, y_val = train_test_split(x_train, y_train, test_size=0.20, random_state=6)\n",
    "print (x_val.shape)"
   ]
  },
  {
   "cell_type": "code",
   "execution_count": 3,
   "metadata": {},
   "outputs": [],
   "source": [
    "y_train=to_categorical(y_train, num_classes = 10)\n",
    "y_val=to_categorical(y_val, num_classes = 10)\n",
    "y_test=to_categorical(y_test, num_classes = 10)"
   ]
  },
  {
   "cell_type": "code",
   "execution_count": 4,
   "metadata": {},
   "outputs": [],
   "source": [
    "imagegen = image.ImageDataGenerator(rescale=1/255)\n",
    "train_batch = imagegen.flow(x_train, y_train,batch_size=96)\n",
    "val_batch = imagegen.flow(x_val,y_val)\n",
    "test_batch = imagegen.flow(x_test,y_test)"
   ]
  },
  {
   "cell_type": "code",
   "execution_count": 5,
   "metadata": {},
   "outputs": [
    {
     "name": "stdout",
     "output_type": "stream",
     "text": [
      "Model: \"mynet\"\n",
      "_________________________________________________________________\n",
      "Layer (type)                 Output Shape              Param #   \n",
      "=================================================================\n",
      "input_1 (InputLayer)         [(None, 28, 28, 1)]       0         \n",
      "_________________________________________________________________\n",
      "conv2d (Conv2D)              (None, 24, 24, 32)        832       \n",
      "_________________________________________________________________\n",
      "conv2d_1 (Conv2D)            (None, 20, 20, 32)        25632     \n",
      "_________________________________________________________________\n",
      "max_pooling2d (MaxPooling2D) (None, 10, 10, 32)        0         \n",
      "_________________________________________________________________\n",
      "dropout (Dropout)            (None, 10, 10, 32)        0         \n",
      "_________________________________________________________________\n",
      "conv2d_2 (Conv2D)            (None, 8, 8, 32)          9248      \n",
      "_________________________________________________________________\n",
      "conv2d_3 (Conv2D)            (None, 6, 6, 32)          9248      \n",
      "_________________________________________________________________\n",
      "max_pooling2d_1 (MaxPooling2 (None, 3, 3, 32)          0         \n",
      "_________________________________________________________________\n",
      "dropout_1 (Dropout)          (None, 3, 3, 32)          0         \n",
      "_________________________________________________________________\n",
      "flatten (Flatten)            (None, 288)               0         \n",
      "_________________________________________________________________\n",
      "dense (Dense)                (None, 256)               73984     \n",
      "_________________________________________________________________\n",
      "dense_1 (Dense)              (None, 10)                2570      \n",
      "=================================================================\n",
      "Total params: 121,514\n",
      "Trainable params: 121,514\n",
      "Non-trainable params: 0\n",
      "_________________________________________________________________\n",
      "Epoch 1/10\n",
      "500/500 [==============================] - 146s 292ms/step - loss: 0.2621 - accuracy: 0.9181 - val_loss: 0.0838 - val_accuracy: 0.9748\n",
      "Epoch 2/10\n",
      "500/500 [==============================] - 137s 275ms/step - loss: 0.0936 - accuracy: 0.9713 - val_loss: 0.0711 - val_accuracy: 0.9781\n",
      "Epoch 3/10\n",
      "500/500 [==============================] - 135s 270ms/step - loss: 0.0742 - accuracy: 0.9768 - val_loss: 0.0457 - val_accuracy: 0.9868\n",
      "Epoch 4/10\n",
      "500/500 [==============================] - 136s 272ms/step - loss: 0.0614 - accuracy: 0.9809 - val_loss: 0.0460 - val_accuracy: 0.9865\n",
      "Epoch 5/10\n",
      "500/500 [==============================] - 133s 265ms/step - loss: 0.0536 - accuracy: 0.9830 - val_loss: 0.0446 - val_accuracy: 0.9863\n",
      "Epoch 6/10\n",
      "500/500 [==============================] - 137s 273ms/step - loss: 0.0521 - accuracy: 0.9831 - val_loss: 0.0396 - val_accuracy: 0.9881\n",
      "Epoch 7/10\n",
      "500/500 [==============================] - 129s 257ms/step - loss: 0.0439 - accuracy: 0.9859 - val_loss: 0.0592 - val_accuracy: 0.9841\n",
      "Epoch 8/10\n",
      "500/500 [==============================] - 135s 271ms/step - loss: 0.0451 - accuracy: 0.9863 - val_loss: 0.0472 - val_accuracy: 0.9862\n",
      "Epoch 9/10\n",
      "500/500 [==============================] - 137s 274ms/step - loss: 0.0447 - accuracy: 0.9858 - val_loss: 0.0412 - val_accuracy: 0.9882\n",
      "Epoch 10/10\n",
      "500/500 [==============================] - 142s 284ms/step - loss: 0.0380 - accuracy: 0.9883 - val_loss: 0.0530 - val_accuracy: 0.9846\n"
     ]
    }
   ],
   "source": [
    "def model (shape, classes):\n",
    "    input = Input(shape)\n",
    "    X = Conv2D(32, (5, 5))(input)\n",
    "    X = Conv2D(32, (5, 5))(X)\n",
    "    X = MaxPooling2D(pool_size=(2,2))(X)\n",
    "    X = Dropout(0.25)(X)\n",
    "    X = Conv2D(32, (3, 3))(X)\n",
    "    X = Conv2D(32, (3, 3))(X)\n",
    "    X = MaxPooling2D(pool_size=(2,2))(X)\n",
    "    X = Dropout(0.25)(X)\n",
    "    X = Flatten()(X)\n",
    "    X = Dense(256, activation = \"relu\")(X)\n",
    "    X = Dense(classes, activation = \"softmax\")(X)\n",
    "    model = Model(inputs=input,outputs=X, name ='mynet')\n",
    "    return model\n",
    "mymodel = model((28,28,1), 10)\n",
    "mymodel.summary()\n",
    "mymodel.compile(loss = 'categorical_crossentropy', optimizer = 'adam',metrics=['accuracy'])\n",
    "history = mymodel.fit(train_batch,epochs = 10,validation_data=val_batch)"
   ]
  },
  {
   "cell_type": "code",
   "execution_count": 9,
   "metadata": {},
   "outputs": [
    {
     "data": {
      "image/png": "[encoded data removed]",
      "text/plain": [
       "<Figure size 432x288 with 1 Axes>"
      ]
     },
     "metadata": {
      "needs_background": "light"
     },
     "output_type": "display_data"
    }
   ],
   "source": [
    "plt.plot(history.history['accuracy'])\n",
    "plt.plot(history.history['val_accuracy'])\n",
    "plt.title('Model Accuracy')\n",
    "plt.ylabel('Accuracy')\n",
    "plt.xlabel('Epoch')\n",
    "plt.legend(['Training set', 'Validation set'], loc='best')\n",
    "plt.show()"
   ]
  },
  {
   "cell_type": "code",
   "execution_count": 10,
   "metadata": {},
   "outputs": [
    {
     "name": "stdout",
     "output_type": "stream",
     "text": [
      "313/313 [==============================] - 7s 23ms/step - loss: 0.0432 - accuracy: 0.9866\n",
      "[0.04324248805642128, 0.9865999817848206]\n"
     ]
    }
   ],
   "source": [
    "print (mymodel.evaluate(test_batch))"
   ]
  },
  {
   "cell_type": "code",
   "execution_count": 7,
   "metadata": {},
   "outputs": [
    {
     "name": "stdout",
     "output_type": "stream",
     "text": [
      "WARNING:tensorflow:From c:\\python\\python38\\lib\\site-packages\\tensorflow\\python\\ops\\resource_variable_ops.py:1813: calling BaseResourceVariable.__init__ (from tensorflow.python.ops.resource_variable_ops) with constraint is deprecated and will be removed in a future version.\n",
      "Instructions for updating:\n",
      "If using Keras pass *_constraint arguments to layers.\n",
      "INFO:tensorflow:Assets written to: Test Model\\assets\n"
     ]
    }
   ],
   "source": [
    "mymodel.save(\"Test Model\")"
   ]
  }
 ],
 "metadata": {
  "kernelspec": {
   "display_name": "Python 3",
   "language": "python",
   "name": "python3"
  },
  "language_info": {
   "codemirror_mode": {
    "name": "ipython",
    "version": 3
   },
   "file_extension": ".py",
   "mimetype": "text/x-python",
   "name": "python",
   "nbconvert_exporter": "python",
   "pygments_lexer": "ipython3",
   "version": "3.8.3"
  }
 },
 "nbformat": 4,
 "nbformat_minor": 4
}
