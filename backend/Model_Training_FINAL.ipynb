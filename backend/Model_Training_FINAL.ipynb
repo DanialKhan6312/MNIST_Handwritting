{
 "cells": [
  {
   "cell_type": "code",
   "execution_count": 14,
   "metadata": {},
   "outputs": [],
   "source": [
    "from keras.preprocessing import image\n",
    "from tensorflow.keras.layers import Dense, Flatten, Conv2D, Conv1D,MaxPooling2D,Dropout,BatchNormalization,AveragePooling2D,Input\n",
    "import matplotlib.pyplot as plt\n",
    "from keras.utils.np_utils import to_categorical \n",
    "from keras.models import Model, Sequential\n",
    "from sklearn.model_selection import train_test_split\n",
    "from sklearn.metrics import classification_report, confusion_matrix\n",
    "from keras.datasets import mnist\n",
    "import numpy as np"
   ]
  },
  {
   "cell_type": "code",
   "execution_count": 2,
   "metadata": {},
   "outputs": [
    {
     "name": "stdout",
     "output_type": "stream",
     "text": [
      "(60000, 28, 28)\n",
      "(60000, 28, 28, 1)\n",
      "(12000, 28, 28, 1)\n"
     ]
    },
    {
     "data": {
      "image/png": "[encoded data removed]",
      "text/plain": [
       "<Figure size 432x288 with 3 Axes>"
      ]
     },
     "metadata": {
      "needs_background": "light"
     },
     "output_type": "display_data"
    }
   ],
   "source": [
    "(x_train,y_train), (x_test,y_test)=mnist.load_data()\n",
    "print(x_train.shape)\n",
    "x_train=x_train.reshape(x_train.shape[0], 28, 28 )\n",
    "x_test = x_test.reshape(x_test.shape[0], 28, 28 )\n",
    "for i in range(0,3):\n",
    "    plt.subplot(330 + (i+1))\n",
    "    plt.imshow(x_train[i], cmap=plt.get_cmap('gray'))\n",
    "    plt.title(y_train[i]);\n",
    "x_train=x_train.reshape(x_train.shape[0], 28, 28,1 )\n",
    "x_test = x_test.reshape(x_test.shape[0], 28, 28,1 )\n",
    "print(x_train.shape)\n",
    "x_train, x_val, y_train, y_val = train_test_split(x_train, y_train, test_size=0.20, random_state=6)\n",
    "print (x_val.shape)"
   ]
  },
  {
   "cell_type": "code",
   "execution_count": 3,
   "metadata": {},
   "outputs": [],
   "source": [
    "y_train=to_categorical(y_train, num_classes = 10)\n",
    "y_val=to_categorical(y_val, num_classes = 10)\n",
    "y_test=to_categorical(y_test, num_classes = 10)"
   ]
  },
  {
   "cell_type": "code",
   "execution_count": 4,
   "metadata": {},
   "outputs": [],
   "source": [
    "imagegen = image.ImageDataGenerator(rescale=1/255,shear_range=0.2,zoom_range=0.2,rotation_range=20)\n",
    "train_batch = imagegen.flow(x_train, y_train,batch_size=96)\n",
    "val_batch = imagegen.flow(x_val,y_val)\n",
    "test_batch = imagegen.flow(x_test,y_test)"
   ]
  },
  {
   "cell_type": "code",
   "execution_count": 5,
   "metadata": {},
   "outputs": [
    {
     "name": "stdout",
     "output_type": "stream",
     "text": [
      "Model: \"mynet\"\n",
      "_________________________________________________________________\n",
      "Layer (type)                 Output Shape              Param #   \n",
      "=================================================================\n",
      "input_1 (InputLayer)         [(None, 28, 28, 1)]       0         \n",
      "_________________________________________________________________\n",
      "conv2d (Conv2D)              (None, 24, 24, 32)        832       \n",
      "_________________________________________________________________\n",
      "conv2d_1 (Conv2D)            (None, 20, 20, 32)        25632     \n",
      "_________________________________________________________________\n",
      "average_pooling2d (MaxPooling2D) (None, 10, 10, 32)        0     \n",
      "_________________________________________________________________\n",
      "dropout (Dropout)            (None, 10, 10, 32)        0         \n",
      "_________________________________________________________________\n",
      "conv2d_2 (Conv2D)            (None, 8, 8, 32)          9248      \n",
      "_________________________________________________________________\n",
      "conv2d_3 (Conv2D)            (None, 6, 6, 32)          9248      \n",
      "_________________________________________________________________\n",
      "average_pooling2d_1 (MaxPooling2 (None, 3, 3, 32)          0     \n",
      "_________________________________________________________________\n",
      "dropout_1 (Dropout)          (None, 3, 3, 32)          0         \n",
      "_________________________________________________________________\n",
      "flatten (Flatten)            (None, 288)               0         \n",
      "_________________________________________________________________\n",
      "dense (Dense)                (None, 256)               73984     \n",
      "_________________________________________________________________\n",
      "dense_1 (Dense)              (None, 10)                2570      \n",
      "=================================================================\n",
      "Total params: 121,514\n",
      "Trainable params: 121,514\n",
      "Non-trainable params: 0\n",
      "_________________________________________________________________\n",
      "Epoch 1/10\n",
      "500/500 [==============================] - 104s 209ms/step - loss: 0.3675 - accuracy: 0.8845 - val_loss: 0.1398 - val_accuracy: 0.9567\n",
      "Epoch 2/10\n",
      "500/500 [==============================] - 101s 202ms/step - loss: 0.1511 - accuracy: 0.9529 - val_loss: 0.0982 - val_accuracy: 0.9700\n",
      "Epoch 3/10\n",
      "500/500 [==============================] - 98s 196ms/step - loss: 0.1246 - accuracy: 0.9608 - val_loss: 0.0782 - val_accuracy: 0.9753\n",
      "Epoch 4/10\n",
      "500/500 [==============================] - 99s 198ms/step - loss: 0.1062 - accuracy: 0.9660 - val_loss: 0.0751 - val_accuracy: 0.9768\n",
      "Epoch 5/10\n",
      "500/500 [==============================] - 99s 198ms/step - loss: 0.0912 - accuracy: 0.9717 - val_loss: 0.0737 - val_accuracy: 0.9778\n",
      "Epoch 6/10\n",
      "500/500 [==============================] - 97s 193ms/step - loss: 0.0915 - accuracy: 0.9716 - val_loss: 0.0748 - val_accuracy: 0.9778\n",
      "Epoch 7/10\n",
      "500/500 [==============================] - 99s 199ms/step - loss: 0.0858 - accuracy: 0.9733 - val_loss: 0.0699 - val_accuracy: 0.9783\n",
      "Epoch 8/10\n",
      "500/500 [==============================] - 98s 196ms/step - loss: 0.0793 - accuracy: 0.9753 - val_loss: 0.0707 - val_accuracy: 0.9794\n",
      "Epoch 9/10\n",
      "500/500 [==============================] - 98s 197ms/step - loss: 0.0780 - accuracy: 0.9759 - val_loss: 0.0677 - val_accuracy: 0.9808\n",
      "Epoch 10/10\n",
      "500/500 [==============================] - 97s 194ms/step - loss: 0.0725 - accuracy: 0.9774 - val_loss: 0.0603 - val_accuracy: 0.9818\n"
     ]
    }
   ],
   "source": [
    "def model (shape, classes):\n",
    "    input = Input(shape)\n",
    "    X = Conv2D(32, (5, 5))(input)\n",
    "    X = Conv2D(32, (5, 5))(X)\n",
    "    X = AveragePooling2D(pool_size=(2,2))(X)\n",
    "    X = Dropout(0.25)(X)\n",
    "    X = Conv2D(32, (3, 3))(X)\n",
    "    X = Conv2D(32, (3, 3))(X)\n",
    "    X = AveragePooling2D(pool_size=(2,2))(X)\n",
    "    X = Dropout(0.25)(X)\n",
    "    X = Flatten()(X)\n",
    "    X = Dense(256, activation = \"relu\")(X)\n",
    "    X = Dense(classes, activation = \"softmax\")(X)\n",
    "    model = Model(inputs=input,outputs=X, name ='mynet')\n",
    "    return model\n",
    "mymodel=model((28,28,1),10)\n",
    "mymodel.summary()\n",
    "mymodel.compile(loss = 'categorical_crossentropy', optimizer = 'adam',metrics=['accuracy'])\n",
    "history = mymodel.fit(train_batch,epochs = 10,validation_data= val_batch)"
   ]
  },
  {
   "cell_type": "code",
   "execution_count": 6,
   "metadata": {},
   "outputs": [
    {
     "data": {
      "image/png": "[encoded data removed]",
      "text/plain": [
       "<Figure size 432x288 with 1 Axes>"
      ]
     },
     "metadata": {
      "needs_background": "light"
     },
     "output_type": "display_data"
    }
   ],
   "source": [
    "plt.plot(history.history['accuracy'])\n",
    "plt.plot(history.history['val_accuracy'])\n",
    "plt.title('Model Accuracy')\n",
    "plt.ylabel('Accuracy')\n",
    "plt.xlabel('Epoch')\n",
    "plt.legend(['Training set', 'Validation set'], loc='best')\n",
    "plt.show()"
   ]
  },
  {
   "cell_type": "code",
   "execution_count": 8,
   "metadata": {},
   "outputs": [
    {
     "name": "stdout",
     "output_type": "stream",
     "text": [
      "313/313 [==============================] - 5s 18ms/step - loss: 0.0461 - accuracy: 0.9848\n",
      "[0.046136558055877686, 0.9847999811172485]\n"
     ]
    }
   ],
   "source": [
    "print (mymodel.evaluate(test_batch))"
   ]
  },
  {
   "cell_type": "code",
   "execution_count": 26,
   "metadata": {},
   "outputs": [
    {
     "name": "stdout",
     "output_type": "stream",
     "text": [
      "INFO:tensorflow:Assets written to: Model\\assets\n"
     ]
    }
   ],
   "source": [
    "mymodel.save(\"Model\")"
   ]
  },
  {
   "cell_type": "code",
   "execution_count": 25,
   "metadata": {},
   "outputs": [
    {
     "name": "stdout",
     "output_type": "stream",
     "text": [
      "375/375 [==============================] - 7s 17ms/step - loss: 0.0548 - accuracy: 0.9837\n",
      "[0.054760564118623734, 0.9836666584014893]\n",
      "              precision    recall  f1-score   support\n",
      "\n",
      "           1       0.75      1.00      0.86         3\n",
      "           2       1.00      1.00      1.00         4\n",
      "           3       1.00      1.00      1.00         6\n",
      "           4       1.00      1.00      1.00         3\n",
      "           5       1.00      1.00      1.00         2\n",
      "           6       1.00      1.00      1.00         4\n",
      "           7       1.00      0.80      0.89         5\n",
      "           8       1.00      1.00      1.00         3\n",
      "           9       1.00      1.00      1.00         2\n",
      "\n",
      "    accuracy                           0.97        32\n",
      "   macro avg       0.97      0.98      0.97        32\n",
      "weighted avg       0.98      0.97      0.97        32\n",
      "\n",
      "[[3 0 0 0 0 0 0 0 0]\n",
      " [0 4 0 0 0 0 0 0 0]\n",
      " [0 0 6 0 0 0 0 0 0]\n",
      " [0 0 0 3 0 0 0 0 0]\n",
      " [0 0 0 0 2 0 0 0 0]\n",
      " [0 0 0 0 0 4 0 0 0]\n",
      " [1 0 0 0 0 0 4 0 0]\n",
      " [0 0 0 0 0 0 0 3 0]\n",
      " [0 0 0 0 0 0 0 0 2]]\n"
     ]
    }
   ],
   "source": [
    "y_img_batch, y_class_batch = val_batch[0]\n",
    "y_pred = np.argmax(mymodel.predict_generator(y_img_batch),-1)\n",
    "y_true = np.argmax(y_class_batch,-1)\n",
    "print (mymodel.evaluate(val_batch))\n",
    "print(classification_report(y_true, y_pred))\n",
    "print (confusion_matrix(y_true,y_pred))"
   ]
  }
 ],
 "metadata": {
  "kernelspec": {
   "display_name": "Python 3",
   "language": "python",
   "name": "python3"
  },
  "language_info": {
   "codemirror_mode": {
    "name": "ipython",
    "version": 3
   },
   "file_extension": ".py",
   "mimetype": "text/x-python",
   "name": "python",
   "nbconvert_exporter": "python",
   "pygments_lexer": "ipython3",
   "version": "3.8.3"
  }
 },
 "nbformat": 4,
 "nbformat_minor": 4
}
