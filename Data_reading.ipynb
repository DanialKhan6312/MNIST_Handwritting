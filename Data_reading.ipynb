{
 "cells": [
  {
   "cell_type": "code",
   "execution_count": 22,
   "metadata": {},
   "outputs": [],
   "source": [
    "from pandas import read_csv\n",
    "from keras.preprocessing import image\n",
    "import matplotlib as plt"
   ]
  },
  {
   "cell_type": "code",
   "execution_count": 24,
   "metadata": {},
   "outputs": [],
   "source": [
    "train_set = read_csv(\"C:/users/Dania/Desktop/MNIST/train.csv\")\n",
    "test_set = read_csv(\"C:/users/Dania/Desktop/MNIST/test.csv\")"
   ]
  },
  {
   "cell_type": "code",
   "execution_count": 32,
   "metadata": {},
   "outputs": [
    {
     "name": "stdout",
     "output_type": "stream",
     "text": [
      "(28000, 784)\n",
      "(28000, 28, 28, 1)\n",
      "(42000, 785)\n",
      "(42000, 28, 28, 1)\n"
     ]
    }
   ],
   "source": [
    "train_pixel = train_set.iloc[:,1:].values.astype('int32')\n",
    "train_pixel = train_pixel.reshape(train_pixel.shape[0], 28, 28,1)\n",
    "test_pixel = test_set.values.astype('float32')\n",
    "test_pixel = test_pixel.reshape(test_pixel.shape[0], 28, 28,1)\n",
    "train_label = train_set.iloc[:,0].values.astype('int32')\n",
    "print (test_set.shape)\n",
    "print (test_pixel.shape)\n",
    "print(train_set.shape)\n",
    "print(train_pixel.shape)"
   ]
  },
  {
   "cell_type": "code",
   "execution_count": 23,
   "metadata": {},
   "outputs": [],
   "source": [
    "imagegen = image.ImageDataGenerator()\n",
    "train_batch = imagegen.flow(train_pixel, train_label, batch_size=64)"
   ]
  }
 ],
 "metadata": {
  "kernelspec": {
   "display_name": "Python 3",
   "language": "python",
   "name": "python3"
  },
  "language_info": {
   "codemirror_mode": {
    "name": "ipython",
    "version": 3
   },
   "file_extension": ".py",
   "mimetype": "text/x-python",
   "name": "python",
   "nbconvert_exporter": "python",
   "pygments_lexer": "ipython3",
   "version": "3.8.3"
  }
 },
 "nbformat": 4,
 "nbformat_minor": 4
}
