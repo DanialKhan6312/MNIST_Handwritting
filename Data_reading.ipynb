{
 "cells": [
  {
   "cell_type": "code",
   "execution_count": 1,
   "metadata": {},
   "outputs": [],
   "source": [
    "from pandas import read_csv\n",
    "from keras.preprocessing import image\n",
    "import matplotlib.pyplot as plt\n",
    "from sklearn.model_selection import train_test_split"
   ]
  },
  {
   "cell_type": "code",
   "execution_count": 2,
   "metadata": {},
   "outputs": [],
   "source": [
    "train_set = read_csv(\"C:/users/Dania/Desktop/MNIST/train.csv\")\n",
    "test_set = read_csv(\"C:/users/Dania/Desktop/MNIST/test.csv\")"
   ]
  },
  {
   "cell_type": "code",
   "execution_count": 3,
   "metadata": {},
   "outputs": [
    {
     "name": "stdout",
     "output_type": "stream",
     "text": [
      "(28000, 784)\n",
      "(28000, 28, 28)\n",
      "(42000, 785)\n",
      "(37800, 28, 28)\n",
      "(4200, 28, 28)\n"
     ]
    }
   ],
   "source": [
    "train_pixel = train_set.iloc[:,1:].values.astype('int32')\n",
    "train_pixel = train_pixel.reshape(train_pixel.shape[0], 28, 28)\n",
    "test_pixel = test_set.values.astype('float32')\n",
    "test_pixel = test_pixel.reshape(test_pixel.shape[0], 28, 28)\n",
    "train_label = train_set.iloc[:,0].values.astype('int32')\n",
    "train_pixel, val_pixel, train_label, val_label = train_test_split(train_pixel, train_label, test_size=0.10, random_state=6)\n",
    "print (test_set.shape)\n",
    "print (test_pixel.shape)\n",
    "print(train_set.shape)\n",
    "print(train_pixel.shape)\n",
    "print(val_pixel.shape)"
   ]
  },
  {
   "cell_type": "code",
   "execution_count": 4,
   "metadata": {},
   "outputs": [
    {
     "data": {
      "image/png": "[encoded data removed]",
      "text/plain": [
       "<Figure size 432x288 with 4 Axes>"
      ]
     },
     "metadata": {
      "needs_background": "light"
     },
     "output_type": "display_data"
    }
   ],
   "source": [
    "for i in range(10, 14):\n",
    "    plt.subplot(330 + (i+1))\n",
    "    plt.imshow(train_pixel[i], cmap=plt.get_cmap('gray'))\n",
    "    plt.title(train_label[i]);\n",
    "train_pixel = train_pixel.reshape(train_pixel.shape[0], 28, 28,1)\n",
    "test_pixel = test_pixel.reshape(test_pixel.shape[0], 28, 28,1)\n",
    "val_pixel = val_pixel.reshape(val_pixel.shape[0], 28, 28,1)"
   ]
  },
  {
   "cell_type": "code",
   "execution_count": 5,
   "metadata": {},
   "outputs": [],
   "source": [
    "imagegen = image.ImageDataGenerator()\n",
    "train_batch = imagegen.flow(train_pixel, train_label, batch_size=64)\n",
    "val_batch = imagegen.flow(val_pixel,val_label,batch_size = 64)"
   ]
  }
 ],
 "metadata": {
  "kernelspec": {
   "display_name": "Python 3",
   "language": "python",
   "name": "python3"
  },
  "language_info": {
   "codemirror_mode": {
    "name": "ipython",
    "version": 3
   },
   "file_extension": ".py",
   "mimetype": "text/x-python",
   "name": "python",
   "nbconvert_exporter": "python",
   "pygments_lexer": "ipython3",
   "version": "3.8.3"
  }
 },
 "nbformat": 4,
 "nbformat_minor": 4
}
